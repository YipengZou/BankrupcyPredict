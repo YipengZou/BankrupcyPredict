{
 "cells": [
  {
   "cell_type": "code",
   "execution_count": 1,
   "metadata": {},
   "outputs": [
    {
     "name": "stdout",
     "output_type": "stream",
     "text": [
      "[[98  2]\n",
      " [40 11]]\n",
      "              precision    recall  f1-score   support\n",
      "\n",
      "           0       0.71      0.98      0.82       100\n",
      "           1       0.85      0.22      0.34        51\n",
      "\n",
      "    accuracy                           0.72       151\n",
      "   macro avg       0.78      0.60      0.58       151\n",
      "weighted avg       0.76      0.72      0.66       151\n",
      "\n",
      "0.7966666666666666\n"
     ]
    },
    {
     "data": {
      "image/png": "[encoded data removed]",
      "text/plain": [
       "<Figure size 864x432 with 1 Axes>"
      ]
     },
     "metadata": {
      "needs_background": "light"
     },
     "output_type": "display_data"
    }
   ],
   "source": [
    "import pandas as pd\n",
    "import numpy as np\n",
    "import matplotlib.pyplot as plt\n",
    "from sklearn.metrics import classification_report,confusion_matrix,roc_auc_score, roc_curve\n",
    "\n",
    "class LeastSquare():\n",
    "    def __init__(self, train_address = '../data/pca_train.csv', test_address = '../data/pca_test.csv'):\n",
    "        self.train_address = train_address\n",
    "        self.test_address = test_address\n",
    "        self.dataLoad()\n",
    "\n",
    "    def dataLoad(self):\n",
    "        self.origin_train = pd.read_csv(self.train_address)\n",
    "        self.origin_test = pd.read_csv(self.test_address)\n",
    "\n",
    "    def classOneHot(self, label_arr):\n",
    "        \"\"\"\n",
    "        Transform label array into matrix. The size is n*k, k is the number of classes\n",
    "        This is one-hot transformation\n",
    "        \"\"\"\n",
    "        n_class = np.unique(label_arr).size\n",
    "        y_matrix = np.zeros((label_arr.shape[0],n_class))\n",
    "        y_matrix[label_arr==0,0] = 1\n",
    "        y_matrix[label_arr==1,1] = 1\n",
    "        return y_matrix.T\n",
    "\n",
    "    def leastSquare(self, lam = 0):\n",
    "        training_set = self.origin_train\n",
    "        testing_set = self.origin_test\n",
    "        y_vec = training_set['class']\n",
    "        x_matrix = training_set.drop(['class'], axis = 1)\n",
    "        # x_matrix = x_matrix.apply(lambda t:((t - np.mean(t)) / np.std(t)))\n",
    "        x_matrix['one'] = 1\n",
    "        y_vec = self.classOneHot(y_vec)\n",
    "        x_matrix = np.array(x_matrix)\n",
    "        x_matrix = x_matrix.T\n",
    "        part1 = np.dot(y_vec, x_matrix.T)\n",
    "        part2 = np.linalg.inv(np.dot(x_matrix, x_matrix.T)+\n",
    "                                lam * np.diag(np.ones(len(training_set.T))))\n",
    "        self.beta_hat = np.dot(part1, part2)\n",
    "        test_data = testing_set.drop(['class'], axis = 1)\n",
    "        # test_data = test_data.apply(lambda t:((t - np.mean(t)) / np.std(t)))\n",
    "\n",
    "        test_data['one'] = 1\n",
    "        self.y_pred = np.dot(self.beta_hat, test_data.T)\n",
    "\n",
    "    def testResult(self): \n",
    "        test = self.origin_test\n",
    "        prediction = self.y_pred\n",
    "        prediction_df= pd.DataFrame(prediction.T)\n",
    "        prediction_df[\"predict\"] = 0\n",
    "        prediction_df.loc[prediction_df[1] > prediction_df[0], \"predict\"] = 1\n",
    "        target_names = ['class 1', 'class 2']\n",
    "        self.result_report = classification_report(test['class'], prediction_df['predict'], target_names=target_names)\n",
    "        self.confu_matrix = confusion_matrix(test['class'], prediction_df['predict'])\n",
    "        test_auc = roc_auc_score(test['class'], prediction_df[1])\n",
    "        print(confusion_matrix(test['class'], prediction_df['predict']))\n",
    "        print(classification_report(test['class'], prediction_df['predict']))\n",
    "        print(roc_auc_score(test['class'], prediction_df[1]))\n",
    "    \n",
    "        score = prediction_df[1]\n",
    "        test_y = self.origin_test['class']\n",
    "        auc = roc_auc_score(test_y, score)\n",
    "        fpr, tpr, _ = roc_curve(test_y, score)\n",
    "        plt.figure(figsize=(12, 6))\n",
    "        plt.subplot(121)\n",
    "        plt.plot(fpr, tpr, color='darkorange',\n",
    "                label='ROC curve (area = %0.2f)' % test_auc)\n",
    "        plt.plot([0, 1], [0, 1], color='navy', linestyle='--')\n",
    "        plt.xlim([0.0, 1.0])\n",
    "        plt.ylim([0.0, 1.05])\n",
    "        plt.xlabel('False Positive Rate')\n",
    "        plt.ylabel('True Positive Rate')\n",
    "        plt.title('ROC for testing set')\n",
    "        plt.legend(loc=\"lower right\")\n",
    "\n",
    "if __name__==\"__main__\":\n",
    "    p = LeastSquare()\n",
    "    p.leastSquare(lam=0)\n",
    "    p.testResult()\n"
   ]
  },
  {
   "cell_type": "code",
   "execution_count": null,
   "metadata": {},
   "outputs": [],
   "source": []
  }
 ],
 "metadata": {
  "interpreter": {
   "hash": "ac48681b522c3cdc73c9106fc4412c53898e8b0b5028956e5c63b9643d9de09b"
  },
  "kernelspec": {
   "display_name": "Python 3.8.12 ('py38')",
   "language": "python",
   "name": "python3"
  },
  "language_info": {
   "codemirror_mode": {
    "name": "ipython",
    "version": 3
   },
   "file_extension": ".py",
   "mimetype": "text/x-python",
   "name": "python",
   "nbconvert_exporter": "python",
   "pygments_lexer": "ipython3",
   "version": "3.8.12"
  },
  "orig_nbformat": 4
 },
 "nbformat": 4,
 "nbformat_minor": 2
}
