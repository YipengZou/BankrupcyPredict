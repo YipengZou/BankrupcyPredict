{
 "cells": [
  {
   "cell_type": "code",
   "execution_count": 1,
   "metadata": {},
   "outputs": [
    {
     "name": "stdout",
     "output_type": "stream",
     "text": [
      "0\n",
      "[[99  1]\n",
      " [38 13]]\n",
      "              precision    recall  f1-score   support\n",
      "\n",
      "     class 1       0.72      0.99      0.84       100\n",
      "     class 2       0.93      0.25      0.40        51\n",
      "\n",
      "    accuracy                           0.74       151\n",
      "   macro avg       0.83      0.62      0.62       151\n",
      "weighted avg       0.79      0.74      0.69       151\n",
      "\n",
      "0.7949019607843136\n",
      "[0.1443367399075366, 0.14433667531317468, 0.14433661075748977, 0.1443365462404549, 0.1443364817620429]\n"
     ]
    },
    {
     "data": {
      "image/png": "[encoded data removed]",
      "text/plain": [
       "<Figure size 864x432 with 1 Axes>"
      ]
     },
     "metadata": {
      "needs_background": "light"
     },
     "output_type": "display_data"
    }
   ],
   "source": [
    "import pandas as pd\n",
    "import numpy as np\n",
    "import copy\n",
    "import matplotlib.pyplot as plt\n",
    "from sklearn.metrics import classification_report,confusion_matrix,roc_auc_score, roc_curve\n",
    "\n",
    "\n",
    "class LogisticRegression():\n",
    "    def __init__(self, train_address = '../data/pca_train.csv', test_address = '../data/pca_test.csv'):\n",
    "        self.lam = None\n",
    "        self.lr = None\n",
    "        self.train_address = train_address\n",
    "        self.test_address = test_address\n",
    "        self.dataLoad()\n",
    "\n",
    "    def dataLoad(self):\n",
    "        self.origin_train = pd.read_csv(self.train_address)\n",
    "        self.origin_test = pd.read_csv(self.test_address)\n",
    "\n",
    "    def sigmoid(self, x):\n",
    "        return 1/(1+np.exp(-x))\n",
    "\n",
    "    def square_loss(self, y_pred, target):\n",
    "        return np.mean(pow((y_pred - target),2))\n",
    "\n",
    "    def classOneHot(self, label_arr):\n",
    "        \"\"\"\n",
    "        Transform label array into matrix. The size is n*k, k is the number of classes\n",
    "        This is one-hot transformation\n",
    "        \"\"\"\n",
    "        n_class = np.unique(label_arr).size\n",
    "        y_matrix = np.zeros((label_arr.shape[0],n_class))\n",
    "        y_matrix[label_arr==0,0] = 1\n",
    "        y_matrix[label_arr==1,1] = 1\n",
    "        return y_matrix.T\n",
    "\n",
    "    def leastSquare(self, lam = 0, lr = 0.03, iteration = 10000):\n",
    "        self.lam = lam\n",
    "        self.lr = lr\n",
    "        y_tr = self.origin_train['class']\n",
    "        X_tr = self.origin_train.drop(['class'], axis = 1)\n",
    "        X_tr = X_tr.apply(lambda t:((t - np.mean(t)) / np.std(t)))\n",
    "        self.y_te = self.origin_test['class']\n",
    "        self.X_te = self.origin_test.drop(['class'], axis = 1)\n",
    "        self.X_te = self.X_te.apply(lambda t:((t - np.mean(t)) / np.std(t)))\n",
    "        self.lr = 0.003\n",
    "        W = np.random.uniform(0,1,len(X_tr.T))\n",
    "        b = 0.1\n",
    "        z = np.dot(X_tr, W) + b\n",
    "        y_pred = self.sigmoid(z)\n",
    "        \n",
    "        self.loss = []\n",
    "        for i in range(iteration):   \n",
    "            gradient_W = (np.dot((y_pred-y_tr).T, X_tr) + self.lam * W)/(X_tr.shape[0])\n",
    "            gradient_b = np.mean(y_pred-y_tr)\n",
    "            W = W - self.lr * gradient_W\n",
    "            b = b - self.lr * gradient_b\n",
    "            z = np.dot(X_tr, W) + b\n",
    "            y_pred = self.sigmoid(z)\n",
    "            self.loss.append(self.square_loss(y_pred, y_tr))\n",
    "        test_z = np.dot(self.X_te, W) + b\n",
    "        \n",
    "        self.prediction = self.sigmoid(test_z)\n",
    "        self.score = copy.copy(self.prediction)\n",
    "\n",
    "        self.prediction[np.where(self.prediction<0.5)] = 0\n",
    "        self.prediction[np.where(self.prediction>=0.5)] = 1\n",
    "        \n",
    "    def testResult(self):  \n",
    "        target_names = ['class 1', 'class 2']\n",
    "        result_report = classification_report(self.y_te, self.prediction, target_names=target_names)\n",
    "        confu_matrix = confusion_matrix(self.y_te, self.prediction)\n",
    "        auc_score = roc_auc_score(self.y_te, self.score)\n",
    "        print(self.lam)\n",
    "        print(confu_matrix)\n",
    "        print(result_report)\n",
    "        print(auc_score)\n",
    "        print(self.loss[-5:])\n",
    "\n",
    "        score = self.score\n",
    "        test_y = self.origin_test['class']\n",
    "        auc = roc_auc_score(test_y, score)\n",
    "        fpr, tpr, _ = roc_curve(test_y, score)\n",
    "        plt.figure(figsize=(12, 6))\n",
    "        plt.subplot(121)\n",
    "        plt.plot(fpr, tpr, color='darkorange',\n",
    "                label='ROC curve (area = %0.2f)' % auc_score)\n",
    "        plt.plot([0, 1], [0, 1], color='navy', linestyle='--')\n",
    "        plt.xlim([0.0, 1.0])\n",
    "        plt.ylim([0.0, 1.05])\n",
    "        plt.xlabel('False Positive Rate')\n",
    "        plt.ylabel('True Positive Rate')\n",
    "        plt.title('ROC for testing set')\n",
    "        plt.legend(loc=\"lower right\")\n",
    "\n",
    "if __name__==\"__main__\":\n",
    "    p = LogisticRegression()\n",
    "    p.leastSquare(lam=0)\n",
    "    p.testResult()\n"
   ]
  },
  {
   "cell_type": "code",
   "execution_count": null,
   "metadata": {},
   "outputs": [],
   "source": []
  }
 ],
 "metadata": {
  "interpreter": {
   "hash": "ac48681b522c3cdc73c9106fc4412c53898e8b0b5028956e5c63b9643d9de09b"
  },
  "kernelspec": {
   "display_name": "Python 3.8.12 ('py38')",
   "language": "python",
   "name": "python3"
  },
  "language_info": {
   "codemirror_mode": {
    "name": "ipython",
    "version": 3
   },
   "file_extension": ".py",
   "mimetype": "text/x-python",
   "name": "python",
   "nbconvert_exporter": "python",
   "pygments_lexer": "ipython3",
   "version": "3.8.12"
  },
  "orig_nbformat": 4
 },
 "nbformat": 4,
 "nbformat_minor": 2
}
